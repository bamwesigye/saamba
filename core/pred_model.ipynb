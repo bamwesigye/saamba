{
  "cells": [
    {
      "cell_type": "code",
      "execution_count": 13,
      "metadata": {
        "id": "BFoDmw3FDr_l"
      },
      "outputs": [
        {
          "ename": "ModuleNotFoundError",
          "evalue": "No module named 'sklearn'",
          "output_type": "error",
          "traceback": [
            "\u001b[0;31m---------------------------------------------------------------------------\u001b[0m",
            "\u001b[0;31mModuleNotFoundError\u001b[0m                       Traceback (most recent call last)",
            "Cell \u001b[0;32mIn[13], line 2\u001b[0m\n\u001b[1;32m      1\u001b[0m \u001b[38;5;66;03m# import pandas as pd\u001b[39;00m\n\u001b[0;32m----> 2\u001b[0m \u001b[38;5;28;01mfrom\u001b[39;00m \u001b[38;5;21;01msklearn\u001b[39;00m\u001b[38;5;21;01m.\u001b[39;00m\u001b[38;5;21;01mmodel_selection\u001b[39;00m \u001b[38;5;28;01mimport\u001b[39;00m train_test_split\n\u001b[1;32m      3\u001b[0m \u001b[38;5;28;01mfrom\u001b[39;00m \u001b[38;5;21;01msklearn\u001b[39;00m\u001b[38;5;21;01m.\u001b[39;00m\u001b[38;5;21;01mensemble\u001b[39;00m \u001b[38;5;28;01mimport\u001b[39;00m RandomForestClassifier\n\u001b[1;32m      4\u001b[0m \u001b[38;5;28;01mfrom\u001b[39;00m \u001b[38;5;21;01msklearn\u001b[39;00m\u001b[38;5;21;01m.\u001b[39;00m\u001b[38;5;21;01mmetrics\u001b[39;00m \u001b[38;5;28;01mimport\u001b[39;00m accuracy_score, confusion_matrix, classification_report\n",
            "\u001b[0;31mModuleNotFoundError\u001b[0m: No module named 'sklearn'"
          ]
        }
      ],
      "source": [
        "import pandas as pd\n",
        "from sklearn.model_selection import train_test_split\n",
        "from sklearn.ensemble import RandomForestClassifier\n",
        "from sklearn.metrics import accuracy_score, confusion_matrix, classification_report\n"
      ]
    },
    {
      "cell_type": "code",
      "execution_count": null,
      "metadata": {
        "colab": {
          "base_uri": "https://localhost:8080/",
          "height": 278
        },
        "id": "wYNxcuu-D3Kb",
        "outputId": "2695a234-a6f5-4cd5-801a-f75c937ebe26"
      },
      "outputs": [],
      "source": [
        "# Load the data\n",
        "# from google.colab import drive\n",
        "# drive.mount('/content/drive')\n",
        "file_path = '/content/drive/My Drive/england.csv'\n",
        "file_path = 'england.csv'\n",
        "df = pd.read_csv(file_path)\n",
        "df.head()"
      ]
    },
    {
      "cell_type": "code",
      "execution_count": null,
      "metadata": {
        "colab": {
          "base_uri": "https://localhost:8080/",
          "height": 348
        },
        "id": "j7sfH029EA0w",
        "outputId": "5238b363-1d2e-4315-b0af-c3792d7626d4"
      },
      "outputs": [],
      "source": [
        "# Data Preprocessing\n",
        "# Convert categorical columns to numerical\n",
        "df['Date'] = pd.to_datetime(df['Date'], format=\"%d/%m/%Y\")\n",
        "df['week_day'] = df['Date'].dt.weekday\n",
        "\n",
        "df['Time'] = pd.to_datetime(df['Time']).dt.time\n",
        "\n",
        "\n",
        "df['FTR'] = df['FTR'].map({'H': 1, 'D': 0, 'A': -1})\n",
        "df['HTR'] = df['HTR'].map({'H': 1, 'D': 0, 'A': -1})\n",
        "\n",
        "df.head()\n"
      ]
    },
    {
      "cell_type": "code",
      "execution_count": null,
      "metadata": {
        "colab": {
          "base_uri": "https://localhost:8080/",
          "height": 75
        },
        "id": "8y0wxy6hEFvJ",
        "outputId": "b4fb2545-1052-4771-bfee-fc42c569bd10"
      },
      "outputs": [],
      "source": [
        "# Select features and target variable\n",
        "# features = ['Time',\t'HomeTeam',\t'AwayTeam',\t'Referee', 'home_odds',\t'draw_odds', 'away_odds', 'over25_odds', 'under25_odds']\n",
        "features = ['home_odds',\t'draw_odds', 'away_odds', 'over25_odds', 'under25_odds','week_day']\n",
        "target = 'FTR'\n",
        "\n",
        "X = df[features]\n",
        "y = df[target]\n",
        "\n",
        "# Split the data into training and testing sets\n",
        "X_train, X_test, y_train, y_test = train_test_split(X, y, test_size=0.3, random_state=42)\n",
        "\n",
        "# Initialize and train the model\n",
        "model = RandomForestClassifier(n_estimators=100, random_state=42)\n",
        "model.fit(X_train, y_train)"
      ]
    },
    {
      "cell_type": "code",
      "execution_count": null,
      "metadata": {
        "id": "E3Pz33iWEhik"
      },
      "outputs": [],
      "source": [
        "\n",
        "# Make predictions\n",
        "y_pred = model.predict(X_test)"
      ]
    },
    {
      "cell_type": "code",
      "execution_count": null,
      "metadata": {
        "colab": {
          "base_uri": "https://localhost:8080/"
        },
        "id": "3dHmDTKaETeI",
        "outputId": "80ed0772-1a77-4032-d833-bd10c7c8d050"
      },
      "outputs": [],
      "source": [
        "# Evaluate the model\n",
        "accuracy = accuracy_score(y_test, y_pred)\n",
        "conf_matrix = confusion_matrix(y_test, y_pred)\n",
        "class_report = classification_report(y_test, y_pred)\n",
        "\n",
        "# Output the evaluation metrics\n",
        "print(f'Accuracy: {accuracy}')\n",
        "print('Confusion Matrix:')\n",
        "print(conf_matrix)\n",
        "print('Classification Report:')\n",
        "print(class_report)"
      ]
    },
    {
      "cell_type": "code",
      "execution_count": null,
      "metadata": {
        "colab": {
          "base_uri": "https://localhost:8080/"
        },
        "id": "uHiIrWhqQPws",
        "outputId": "67da26bd-8fbd-49e4-a564-6cf94931527b"
      },
      "outputs": [],
      "source": [
        "y_pred_df = pd.DataFrame(y_pred)\n",
        "y_pred_df.columns = ['prediction']\n",
        "\n",
        "y_pred_df = y_pred_df.reset_index()\n",
        "y_pred_df.shape"
      ]
    },
    {
      "cell_type": "code",
      "execution_count": null,
      "metadata": {
        "colab": {
          "base_uri": "https://localhost:8080/"
        },
        "id": "1TjrWBwVevZM",
        "outputId": "a4e4bf6b-527e-4b2e-eec9-459760d1c613"
      },
      "outputs": [],
      "source": [
        "y_test_df = pd.DataFrame(y_test)\n",
        "y_test_df.columns = ['result']\n",
        "y_test_df = y_test_df.reset_index()\n",
        "y_test_df.shape"
      ]
    },
    {
      "cell_type": "code",
      "execution_count": null,
      "metadata": {
        "id": "LuTAL3r-fPCb"
      },
      "outputs": [],
      "source": [
        "X_test_df = X_test.reset_index()\n",
        "X_test_df.shape\n",
        "X_test_df.to_csv('test_data.csv', index=False)\n",
        "y_test_df.to_csv('y_test.csv', index=False)\n",
        "y_pred_df.to_csv('y_pred.csv', index=False)"
      ]
    },
    {
      "cell_type": "code",
      "execution_count": null,
      "metadata": {
        "colab": {
          "base_uri": "https://localhost:8080/"
        },
        "id": "Jl2eCjb0abZF",
        "outputId": "5f9607a1-6365-47bc-abbd-0867d1765546"
      },
      "outputs": [],
      "source": [
        "# results_df = pd.concat([X_test,y_pred_df,y_test_df],axis =1)\n",
        "result_odds = []\n",
        "for row in range(114):\n",
        "  if y_pred_df.prediction[row] == 1 and y_pred_df.prediction[row] == 1:\n",
        "    result_odds.append(X_test_df.home_odds[row])\n",
        "    print(\"home win sucesss\")\n",
        "  elif y_pred_df.prediction[row] == 0 and y_pred_df.prediction[row] == 0:\n",
        "    result_odds.append(X_test_df.draw_odds[row])\n",
        "    print(\"Draw sucesss\")\n",
        "  elif y_pred_df.prediction[row] == -1 and y_pred_df.prediction[row] == -1:\n",
        "    result_odds.append(X_test_df.away_odds[row])\n",
        "    print(\"Away win sucesss\")\n",
        "  else:\n",
        "      result_odds.append(-1)\n",
        "      print(\"wrong prediction\")\n",
        "\n",
        "print(result_odds)\n",
        "print(\"results value = \",sum(result_odds))\n"
      ]
    },
    {
      "cell_type": "code",
      "execution_count": null,
      "metadata": {
        "id": "K7bH7dxfhSXr"
      },
      "outputs": [],
      "source": []
    }
  ],
  "metadata": {
    "colab": {
      "provenance": []
    },
    "kernelspec": {
      "display_name": "Python 3",
      "name": "python3"
    },
    "language_info": {
      "codemirror_mode": {
        "name": "ipython",
        "version": 3
      },
      "file_extension": ".py",
      "mimetype": "text/x-python",
      "name": "python",
      "nbconvert_exporter": "python",
      "pygments_lexer": "ipython3",
      "version": "3.12.3"
    }
  },
  "nbformat": 4,
  "nbformat_minor": 0
}
